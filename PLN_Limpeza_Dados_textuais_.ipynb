{
  "nbformat": 4,
  "nbformat_minor": 0,
  "metadata": {
    "colab": {
      "provenance": [],
      "toc_visible": true,
      "include_colab_link": true
    },
    "kernelspec": {
      "display_name": "Python 3 (ipykernel)",
      "language": "python",
      "name": "python3"
    },
    "language_info": {
      "codemirror_mode": {
        "name": "ipython",
        "version": 3
      },
      "file_extension": ".py",
      "mimetype": "text/x-python",
      "name": "python",
      "nbconvert_exporter": "python",
      "pygments_lexer": "ipython3",
      "version": "3.9.8"
    }
  },
  "cells": [
    {
      "cell_type": "markdown",
      "metadata": {
        "id": "view-in-github",
        "colab_type": "text"
      },
      "source": [
        "<a href=\"https://colab.research.google.com/github/luiz-star/Limpeza_Dados_PLN_Desafio_Latam/blob/main/PLN_Limpeza_Dados_textuais_.ipynb\" target=\"_parent\"><img src=\"https://colab.research.google.com/assets/colab-badge.svg\" alt=\"Open In Colab\"/></a>"
      ]
    },
    {
      "cell_type": "markdown",
      "metadata": {
        "id": "jwX95zFFaA0D"
      },
      "source": [
        "# <font color='pink'>Limpeza e pré-processamento de dados textuais com a biblioteca NeatText\n",
        "\n",
        "\n",
        "</font>\n",
        "\n",
        "MINI PALESTRA"
      ]
    },
    {
      "cell_type": "markdown",
      "metadata": {
        "id": "gtv8JTM61J5x"
      },
      "source": [
        "![Limpeza e pré-processamento de dados textuais com a biblioteca NeatText](https://user-images.githubusercontent.com/72530507/137633609-467a4245-4430-4171-a359-e068340b13bd.png)\n"
      ]
    },
    {
      "cell_type": "markdown",
      "metadata": {
        "id": "WQTt4GUZac2s"
      },
      "source": [
        "#Índice\n",
        "O que é NeatText\n",
        "\n",
        "Componentes do NeatText\n",
        "\n",
        "Instalação\n",
        "\n",
        "Usando TextFrame\n",
        "\n",
        "Usando TextExtractor\n",
        "\n",
        "Usando funções\n",
        "\n",
        "Usando o Explainer\n",
        "\n",
        "Conclusão"
      ]
    },
    {
      "cell_type": "markdown",
      "metadata": {
        "id": "tSlaM3QRawCy"
      },
      "source": [
        "#O que é NeatText\n",
        "\n",
        "NeatText é um pacote simples de processamento de linguagem natural para limpar dados de texto e pré-processar dados de texto. Ele pode ser usado para limpar frases, extrair e-mails, números de telefone, links da web e emojis de frases. Também pode ser usado para configurar pipelines de pré-processamento de texto."
      ]
    },
    {
      "cell_type": "code",
      "metadata": {
        "colab": {
          "base_uri": "https://localhost:8080/"
        },
        "id": "kG6Lt9WRZ17H",
        "outputId": "6cd9b036-35e6-4097-b336-989dec7ba724"
      },
      "source": [
        "# Instalação da Biblioteca NeatText\n",
        "!pip install neattext -- update"
      ],
      "execution_count": 1,
      "outputs": [
        {
          "output_type": "stream",
          "name": "stdout",
          "text": [
            "Collecting neattext\n",
            "  Downloading neattext-0.1.3-py3-none-any.whl (114 kB)\n",
            "\u001b[2K     \u001b[90m━━━━━━━━━━━━━━━━━━━━━━━━━━━━━━━━━━━━━━━━\u001b[0m \u001b[32m114.7/114.7 kB\u001b[0m \u001b[31m854.4 kB/s\u001b[0m eta \u001b[36m0:00:00\u001b[0m\n",
            "\u001b[?25hCollecting update\n",
            "  Downloading update-0.0.1-py2.py3-none-any.whl (2.9 kB)\n",
            "Collecting style==1.1.0 (from update)\n",
            "  Downloading style-1.1.0-py2.py3-none-any.whl (6.4 kB)\n",
            "Installing collected packages: style, update, neattext\n",
            "Successfully installed neattext-0.1.3 style-1.1.0 update-0.0.1\n"
          ]
        }
      ]
    },
    {
      "cell_type": "code",
      "metadata": {
        "id": "Z7stH9H1bt95"
      },
      "source": [
        "#Importando a Biblioteca\n",
        "import neattext as nt"
      ],
      "execution_count": 2,
      "outputs": []
    },
    {
      "cell_type": "markdown",
      "metadata": {
        "id": "zVOnvcf0b51F"
      },
      "source": [
        "Veremos a funcionalidade de diferentes objetos desta biblioteca em uma frase.\n",
        "\n",
        "Vamos criar uma frase.\n",
        "\n",
        "Este será o exemplo que vamos utilizar para os nossos testes:\n",
        "\n",
        "' ☺️. Desenvolver educação tecnológica por meio da formação de profissionais éticos e competentes, capazes de se adaptar às mudanças, criar, aplicar e difundir conhecimento tecnológico, contribuindo para o desenvolvimento social e a elevação da qualidade e produtividade de processos, produtos e serviços!!!!! 😎.Seu número de contato é 0123456789.Seu e-mail é ficticio@gmail.com.👀Seu site é https://desafiolatam.com/'\n",
        "\n"
      ]
    },
    {
      "cell_type": "code",
      "metadata": {
        "id": "tZaQ7P7_cG49"
      },
      "source": [
        "my_text = ' ☺️. Desenvolver educação tecnológica por meio da formação de profissionais éticos e competentes, capazes de se adaptar às mudanças, criar, aplicar e difundir conhecimento tecnológico, contribuindo para o desenvolvimento social e a elevação da qualidade e produtividade de processos, produtos e serviços!!!!! 😎.Seu número de contato é 0123456789.Seu e-mail é ficticio@gmail.com.👀Seu site é https://desafiolatam.com/'"
      ],
      "execution_count": 23,
      "outputs": []
    },
    {
      "cell_type": "markdown",
      "metadata": {
        "id": "lMZ_h7frfIZS"
      },
      "source": [
        "A frase acima contém muito ruído, como emojis, e-mails, links da web e alguns caracteres especiais. Então, vamos limpar essa frase."
      ]
    },
    {
      "cell_type": "markdown",
      "metadata": {
        "id": "k7VI5wHhfVba"
      },
      "source": [
        "Este objeto mantém o texto como um objeto TextFrame, o que nos permitirá fazer mais com o texto. Para usar o objeto TextFrame, temos que criar uma instância de TextFrame na frase dada. Vamos criar uma instância chamada sentx."
      ]
    },
    {
      "cell_type": "code",
      "metadata": {
        "id": "QY4smfDDfb-P"
      },
      "source": [
        "# Criando uma instância\n",
        "sentx = nt.TextFrame(text=my_text)"
      ],
      "execution_count": 24,
      "outputs": []
    },
    {
      "cell_type": "code",
      "metadata": {
        "colab": {
          "base_uri": "https://localhost:8080/",
          "height": 87
        },
        "id": "91vLg6Knic85",
        "outputId": "85510a6b-8644-4a56-e2e8-6fc21f865265"
      },
      "source": [
        "# Imprimir o texto da Instância sentx\n",
        "sentx.text"
      ],
      "execution_count": 25,
      "outputs": [
        {
          "output_type": "execute_result",
          "data": {
            "text/plain": [
              "' ☺️. Desenvolver educação tecnológica por meio da formação de profissionais éticos e competentes, capazes de se adaptar às mudanças, criar, aplicar e difundir conhecimento tecnológico, contribuindo para o desenvolvimento social e a elevação da qualidade e produtividade de processos, produtos e serviços!!!!! 😎.Seu número de contato é 0123456789.Seu e-mail é ficticio@gmail.com.👀Seu site é https://desafiolatam.com/'"
            ],
            "application/vnd.google.colaboratory.intrinsic+json": {
              "type": "string"
            }
          },
          "metadata": {},
          "execution_count": 25
        }
      ]
    },
    {
      "cell_type": "code",
      "metadata": {
        "colab": {
          "base_uri": "https://localhost:8080/"
        },
        "id": "lfcqi4pnixlO",
        "outputId": "94b8c373-4264-493d-a861-5f374df655ff"
      },
      "source": [
        "#Agora que temos uma instância sentx, vamos usar o comando describe ().\n",
        "sentx.describe()"
      ],
      "execution_count": 6,
      "outputs": [
        {
          "output_type": "stream",
          "name": "stdout",
          "text": [
            "Key      Value          \n",
            "Length  : 427            \n",
            "vowels  : 146            \n",
            "consonants: 175            \n",
            "stopwords: 2              \n",
            "punctuations: 22             \n",
            "special_char: 22             \n",
            "tokens(whitespace): 54             \n",
            "tokens(words): 62             \n"
          ]
        }
      ]
    },
    {
      "cell_type": "code",
      "metadata": {
        "colab": {
          "base_uri": "https://localhost:8080/"
        },
        "id": "bOLefg3ukWSE",
        "outputId": "9ca4f64b-4c5e-48de-8d42-b820a7d48955"
      },
      "source": [
        "#Para contar o número de vogais na frase\n",
        "sentx.count_vowels ()"
      ],
      "execution_count": 7,
      "outputs": [
        {
          "output_type": "execute_result",
          "data": {
            "text/plain": [
              "{'a': 32, 'e': 42, 'i': 27, 'o': 35, 'u': 10}"
            ]
          },
          "metadata": {},
          "execution_count": 7
        }
      ]
    },
    {
      "cell_type": "code",
      "metadata": {
        "colab": {
          "base_uri": "https://localhost:8080/"
        },
        "id": "nHaPXkfykfvF",
        "outputId": "9a03ebdf-a6d0-4622-e486-670d2b1dbe97"
      },
      "source": [
        "#Para contar o número de palavras irrelevantes na frase\n",
        "sentx.count_stopwords ()"
      ],
      "execution_count": 26,
      "outputs": [
        {
          "output_type": "execute_result",
          "data": {
            "text/plain": [
              "{'o': 1, 'a': 1}"
            ]
          },
          "metadata": {},
          "execution_count": 26
        }
      ]
    },
    {
      "cell_type": "markdown",
      "metadata": {
        "id": "4HHjLgsUkRlu"
      },
      "source": [
        "Agora que vimos algumas métricas de texto básicas que esta biblioteca tem a oferecer, vamos ver alguns métodos de limpeza de texto."
      ]
    },
    {
      "cell_type": "code",
      "metadata": {
        "colab": {
          "base_uri": "https://localhost:8080/"
        },
        "id": "xLWdeHbwky1d",
        "outputId": "2e6b3d07-3149-4645-c490-f2f7c6138b9a"
      },
      "source": [
        "#Para remover pontuações na frase\n",
        "print(sentx.remove_puncts())"
      ],
      "execution_count": 27,
      "outputs": [
        {
          "output_type": "stream",
          "name": "stdout",
          "text": [
            " ☺️ Desenvolver educação tecnológica por meio da formação de profissionais éticos e competentes capazes de se adaptar às mudanças criar aplicar e difundir conhecimento tecnológico contribuindo para o desenvolvimento social e a elevação da qualidade e produtividade de processos produtos e serviços 😎Seu número de contato é 0123456789Seu email é ficticio@gmailcom👀Seu site é https://desafiolatamcom/\n"
          ]
        }
      ]
    },
    {
      "cell_type": "code",
      "metadata": {
        "colab": {
          "base_uri": "https://localhost:8080/"
        },
        "id": "qfK4bOsUlgj0",
        "outputId": "b9428f6c-93f4-4b95-bc82-8b2d0fb1bf5a"
      },
      "source": [
        "#Removendo emojis\n",
        "print(sentx.remove_emojis ())"
      ],
      "execution_count": 28,
      "outputs": [
        {
          "output_type": "stream",
          "name": "stdout",
          "text": [
            "  Desenvolver educação tecnológica por meio da formação de profissionais éticos e competentes capazes de se adaptar às mudanças criar aplicar e difundir conhecimento tecnológico contribuindo para o desenvolvimento social e a elevação da qualidade e produtividade de processos produtos e serviços Seu número de contato é 0123456789Seu email é ficticio@gmailcomSeu site é https://desafiolatamcom/\n"
          ]
        }
      ]
    },
    {
      "cell_type": "markdown",
      "metadata": {
        "id": "8so8Q8kfl1HG"
      },
      "source": [
        "Às vezes, as frases contêm dados valiosos como e-mails, números de telefone, emojis. Por exemplo, em um determinado tweet, o emoji pode nos dar informações valiosas, como o sentimento do tweet. Portanto, vamos usar o TextExtractor para extrair algumas informações valiosas da frase."
      ]
    },
    {
      "cell_type": "code",
      "metadata": {
        "id": "Fbu2gjZjl9LP"
      },
      "source": [
        "#Primeiro, vamos extrair o e-mail da frase. Para fazer isso,\n",
        "# temos que importar TextExtractor e criar uma instância dele\n",
        "from neattext import TextExtractor\n",
        "sentx1 = TextExtractor (text = my_text)"
      ],
      "execution_count": 29,
      "outputs": []
    },
    {
      "cell_type": "code",
      "metadata": {
        "colab": {
          "base_uri": "https://localhost:8080/"
        },
        "id": "wRXR4NzcmXYt",
        "outputId": "af793c1f-752b-44ca-cf1e-73b58cd3d645"
      },
      "source": [
        "#Agora que criamos uma instância dele, vamos usá-lo para extrair e-mail\n",
        "sentx1.extract_emails ()"
      ],
      "execution_count": 30,
      "outputs": [
        {
          "output_type": "execute_result",
          "data": {
            "text/plain": [
              "['ficticio@gmail.com.']"
            ]
          },
          "metadata": {},
          "execution_count": 30
        }
      ]
    },
    {
      "cell_type": "code",
      "metadata": {
        "colab": {
          "base_uri": "https://localhost:8080/"
        },
        "id": "Mgpdae8mmkEO",
        "outputId": "8149411d-106d-482c-a3e4-4da270489e66"
      },
      "source": [
        "#vamos extrair os emojis da frase\n",
        "sentx1.extract_emojis ()"
      ],
      "execution_count": 31,
      "outputs": [
        {
          "output_type": "execute_result",
          "data": {
            "text/plain": [
              "['☺️', '😎', '👀']"
            ]
          },
          "metadata": {},
          "execution_count": 31
        }
      ]
    },
    {
      "cell_type": "markdown",
      "metadata": {
        "id": "WkDdvtmUm7ZN"
      },
      "source": [
        "#Usando funções no Neattext\n",
        "As funções oferecem uma maneira única de pré-processar a frase. Podemos fazer todas as atividades que fizemos acima em uma linha usando funções que salvarão algumas linhas de código.\n",
        "\n",
        "Agora vamos usar funções para processar a frase. Para fazer isso, temos que importar os módulos necessários"
      ]
    },
    {
      "cell_type": "code",
      "metadata": {
        "id": "BnwLs6fZnDMt"
      },
      "source": [
        "# Importando os módulos\n",
        "from neattext.functions import clean_text"
      ],
      "execution_count": 32,
      "outputs": []
    },
    {
      "cell_type": "code",
      "metadata": {
        "colab": {
          "base_uri": "https://localhost:8080/",
          "height": 70
        },
        "id": "SzSZnzilrkhh",
        "outputId": "cf05f403-476c-4a24-e79e-fb95e15b4f32"
      },
      "source": [
        "#Removendo URLs, palavras irrelevantes da frase original meu_texto\n",
        "clean_text (my_text, urls = True, stopwords = True)"
      ],
      "execution_count": 33,
      "outputs": [
        {
          "output_type": "execute_result",
          "data": {
            "text/plain": [
              "'. desenvolver educação tecnológica por meio da formação de profissionais éticos e competentes, capazes de se adaptar às mudanças, criar, aplicar e difundir conhecimento tecnológico, contribuindo para desenvolvimento social e elevação da qualidade e produtividade de processos, produtos e serviços!!!!! .seu número de contato é 0123456789.seu e-mail é ficticio@gmail.com.seu site é '"
            ],
            "application/vnd.google.colaboratory.intrinsic+json": {
              "type": "string"
            }
          },
          "metadata": {},
          "execution_count": 33
        }
      ]
    },
    {
      "cell_type": "markdown",
      "metadata": {
        "id": "41CUGdgdsE7v"
      },
      "source": [
        "#Usando o Explainer\n",
        "Até agora vimos TextFrame, TextExtractor e Functions. Agora vamos ver outro objeto da biblioteca NeatText, ou seja, Explainer.\n",
        "\n",
        "Às vezes, podemos ficar confusos sobre o que um emoji pode significar e também às vezes queremos criar um emoji com base em uma determinada expressão e em alguns aplicativos, podemos querer usar Unicode em vez de emojis. Portanto, é necessário converter esses Unicodes em emojis na saída. O objeto explicador faz tudo isso para nós.\n",
        "\n",
        "O explicador pode fazer três tipos de atividades. Eles são\n",
        "\n",
        "emojify () - Cria um emoji baseado em uma determinada expressão emocional.\n",
        "\n",
        "emoji_explainer () - explica o significado por trás do emoji fornecido.\n",
        "\n",
        "unicode_2_emoji () - Converte Unicode em emoji."
      ]
    },
    {
      "cell_type": "code",
      "metadata": {
        "id": "TrmyhHBysb4v"
      },
      "source": [
        "#Importando as funções do explicador\n",
        "from neattext.explainer import emojify, emoji_explainer, unicode_2_emoji"
      ],
      "execution_count": 34,
      "outputs": []
    },
    {
      "cell_type": "code",
      "metadata": {
        "colab": {
          "base_uri": "https://localhost:8080/",
          "height": 35
        },
        "id": "elY8HGLDso-_",
        "outputId": "8cec3123-6b7c-4dbb-e7b6-bea3aa705a9b"
      },
      "source": [
        "# Testando o emojify\n",
        "#Podemos ver que ele produzirá  um emoji baseado na emoção que demos a ele.\n",
        "emojify('smiley')   # cry => chorar # Smiley Risonha"
      ],
      "execution_count": 35,
      "outputs": [
        {
          "output_type": "execute_result",
          "data": {
            "text/plain": [
              "'😃'"
            ],
            "application/vnd.google.colaboratory.intrinsic+json": {
              "type": "string"
            }
          },
          "metadata": {},
          "execution_count": 35
        }
      ]
    },
    {
      "cell_type": "code",
      "metadata": {
        "colab": {
          "base_uri": "https://localhost:8080/",
          "height": 35
        },
        "id": "VGJQe4pduni7",
        "outputId": "2603703e-d234-4531-d00c-c315fd60c7b4"
      },
      "source": [
        "#Agora vamos ver emoji_explainer ()\n",
        "emoji_explainer ('😍')  #ROSTO SORRISO COM OLHOS EM FORMA DE CORAÇÃO"
      ],
      "execution_count": 36,
      "outputs": [
        {
          "output_type": "execute_result",
          "data": {
            "text/plain": [
              "'SMILING FACE WITH HEART-SHAPED EYES'"
            ],
            "application/vnd.google.colaboratory.intrinsic+json": {
              "type": "string"
            }
          },
          "metadata": {},
          "execution_count": 36
        }
      ]
    },
    {
      "cell_type": "code",
      "metadata": {
        "colab": {
          "base_uri": "https://localhost:8080/",
          "height": 35
        },
        "id": "pRne1QQivIw7",
        "outputId": "9881cbad-8e45-4e82-bf9c-d22b6beb397e"
      },
      "source": [
        "#Vamos ver unicode_2_emoji ()\n",
        "unicode_2_emoji ('0x1f49b')"
      ],
      "execution_count": 37,
      "outputs": [
        {
          "output_type": "execute_result",
          "data": {
            "text/plain": [
              "'💛'"
            ],
            "application/vnd.google.colaboratory.intrinsic+json": {
              "type": "string"
            }
          },
          "metadata": {},
          "execution_count": 37
        }
      ]
    },
    {
      "cell_type": "code",
      "source": [
        "!pip install qrcode -- update"
      ],
      "metadata": {
        "colab": {
          "base_uri": "https://localhost:8080/"
        },
        "id": "2wlpb5XSbiSW",
        "outputId": "f1ed0a53-b86e-4b0c-ed5c-d93434585d58"
      },
      "execution_count": 38,
      "outputs": [
        {
          "output_type": "stream",
          "name": "stdout",
          "text": [
            "Requirement already satisfied: qrcode in /usr/local/lib/python3.10/dist-packages (7.4.2)\n",
            "Requirement already satisfied: update in /usr/local/lib/python3.10/dist-packages (0.0.1)\n",
            "Requirement already satisfied: typing-extensions in /usr/local/lib/python3.10/dist-packages (from qrcode) (4.5.0)\n",
            "Requirement already satisfied: pypng in /usr/local/lib/python3.10/dist-packages (from qrcode) (0.20220715.0)\n",
            "Requirement already satisfied: style==1.1.0 in /usr/local/lib/python3.10/dist-packages (from update) (1.1.0)\n"
          ]
        }
      ]
    },
    {
      "cell_type": "code",
      "source": [
        "# Importando as Bibliotecas\n",
        "import qrcode\n",
        "img = qrcode.make(\"https://colab.research.google.com/drive/1-FYR-lnIPu-R8MvscEVA4GGDNjnVybxz\")\n",
        "img.save(\"drive_codigo.jpg\")"
      ],
      "metadata": {
        "id": "jRlWqZgSbijt"
      },
      "execution_count": 39,
      "outputs": []
    },
    {
      "cell_type": "markdown",
      "metadata": {
        "id": "z9wQC56-sZ0W"
      },
      "source": [
        "# <font color='pink'>CONCLUSÃO</font>\n",
        "\n",
        "Vimos todos os componentes da biblioteca NeatText. Removemos várias coisas indesejadas da frase e a deixamos pronta para processamento posterior. Também economizamos muito tempo escrevendo funções para pré-processamento. Esta biblioteca é útil para fazer qualquer tipo de pré-processamento de dados de texto."
      ]
    },
    {
      "cell_type": "markdown",
      "source": [
        "#  MAR TRANQUILO NÃO FAZ MARINHEIRO BOM\n",
        "\n",
        "![](http://31.media.tumblr.com/c891df5d9d74fb5f8f1496d33d1cbec3/tumblr_n40g5wTcba1t24k6go1_500.gif)"
      ],
      "metadata": {
        "id": "9QQ9EHAdgiIA"
      }
    },
    {
      "cell_type": "markdown",
      "source": [
        "#Abaixo copie o Qrcode com todo o código e Sucesso na sua jornada"
      ],
      "metadata": {
        "id": "jgLkiifcet6_"
      }
    },
    {
      "cell_type": "code",
      "source": [
        "# Saída do código acima\n",
        "img"
      ],
      "metadata": {
        "colab": {
          "base_uri": "https://localhost:8080/",
          "height": 467
        },
        "id": "VnimhFUobivk",
        "outputId": "d692ff5b-47b4-4c79-d36a-8285b95b2883"
      },
      "execution_count": 40,
      "outputs": [
        {
          "output_type": "execute_result",
          "data": {
            "text/plain": [
              "<qrcode.image.pil.PilImage at 0x79bdc6c37310>"
            ],
            "image/png": "[encoded data removed]"
          },
          "metadata": {},
          "execution_count": 40
        }
      ]
    },
    {
      "cell_type": "markdown",
      "source": [],
      "metadata": {
        "id": "q3-W4OXNfN-h"
      }
    },
    {
      "cell_type": "markdown",
      "source": [],
      "metadata": {
        "id": "U7nifWDmgfN2"
      }
    }
  ]
}